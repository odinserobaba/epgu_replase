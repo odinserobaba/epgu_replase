{
 "cells": [
  {
   "cell_type": "code",
   "execution_count": 5,
   "metadata": {},
   "outputs": [
    {
     "name": "stderr",
     "output_type": "stream",
     "text": [
      "2024-09-08 08:17:24,486 - INFO - Файл /home/nuanred/Documents/repo/epgu_replase/input_files_folder/renewal.json успешно загружен.\n",
      "2024-09-08 08:17:24,487 - INFO - Поле 'id' успешно обновлено.\n",
      "2024-09-08 08:17:24,487 - INFO - Поле 'requestId' успешно обновлено.\n",
      "2024-09-08 08:17:24,488 - INFO - Поле 'xsltId' успешно обновлено.\n",
      "2024-09-08 08:17:24,489 - INFO - Поле 'responseId' успешно обновлено.\n",
      "2024-09-08 08:17:24,489 - INFO - Поле 'messageId' успешно обновлено.\n",
      "2024-09-08 08:17:24,490 - WARNING - Поле 'orderID' отсутствует в JSON. Пропуск.\n",
      "2024-09-08 08:17:24,490 - WARNING - Поле 'statementDate' отсутствует в JSON. Пропуск.\n",
      "2024-09-08 08:17:24,490 - WARNING - Поле 'issueDate' отсутствует в JSON. Пропуск.\n",
      "2024-09-08 08:17:24,491 - WARNING - Поле 'date' отсутствует в JSON. Пропуск.\n",
      "2024-09-08 08:17:24,491 - INFO - Поле 'requestTimestamp' успешно обновлено.\n",
      "2024-09-08 08:17:24,491 - INFO - Поле 'updateTimestamp' успешно обновлено.\n",
      "2024-09-08 08:17:24,492 - WARNING - Поле 'fullName' отсутствует в JSON. Пропуск.\n",
      "2024-09-08 08:17:24,492 - WARNING - Поле 'shortName' отсутствует в JSON. Пропуск.\n",
      "2024-09-08 08:17:24,493 - INFO - Файл /home/nuanred/Documents/repo/epgu_replase/output_files_folder/newrenewal.json успешно сохранен.\n",
      "2024-09-08 08:17:24,493 - INFO - Файл /home/nuanred/Documents/repo/epgu_replase/input_files_folder/create.json успешно загружен.\n",
      "2024-09-08 08:17:24,494 - INFO - Поле 'id' успешно обновлено.\n",
      "2024-09-08 08:17:24,494 - INFO - Поле 'requestId' успешно обновлено.\n",
      "2024-09-08 08:17:24,494 - INFO - Поле 'xsltId' успешно обновлено.\n",
      "2024-09-08 08:17:24,495 - INFO - Поле 'responseId' успешно обновлено.\n",
      "2024-09-08 08:17:24,495 - INFO - Поле 'messageId' успешно обновлено.\n",
      "2024-09-08 08:17:24,495 - WARNING - Поле 'orderID' отсутствует в JSON. Пропуск.\n",
      "2024-09-08 08:17:24,495 - WARNING - Поле 'statementDate' отсутствует в JSON. Пропуск.\n",
      "2024-09-08 08:17:24,496 - WARNING - Поле 'issueDate' отсутствует в JSON. Пропуск.\n",
      "2024-09-08 08:17:24,496 - WARNING - Поле 'date' отсутствует в JSON. Пропуск.\n",
      "2024-09-08 08:17:24,497 - INFO - Поле 'requestTimestamp' успешно обновлено.\n",
      "2024-09-08 08:17:24,497 - INFO - Поле 'updateTimestamp' успешно обновлено.\n",
      "2024-09-08 08:17:24,497 - WARNING - Поле 'fullName' отсутствует в JSON. Пропуск.\n",
      "2024-09-08 08:17:24,498 - WARNING - Поле 'shortName' отсутствует в JSON. Пропуск.\n",
      "2024-09-08 08:17:24,499 - INFO - Файл /home/nuanred/Documents/repo/epgu_replase/output_files_folder/newcreate.json успешно сохранен.\n",
      "2024-09-08 08:17:24,499 - INFO - Файл /home/nuanred/Documents/repo/epgu_replase/input_files_folder/prolongation.json успешно загружен.\n",
      "2024-09-08 08:17:24,500 - INFO - Поле 'id' успешно обновлено.\n",
      "2024-09-08 08:17:24,500 - INFO - Поле 'requestId' успешно обновлено.\n",
      "2024-09-08 08:17:24,500 - INFO - Поле 'xsltId' успешно обновлено.\n",
      "2024-09-08 08:17:24,501 - INFO - Поле 'responseId' успешно обновлено.\n",
      "2024-09-08 08:17:24,501 - INFO - Поле 'messageId' успешно обновлено.\n",
      "2024-09-08 08:17:24,501 - WARNING - Поле 'orderID' отсутствует в JSON. Пропуск.\n",
      "2024-09-08 08:17:24,502 - WARNING - Поле 'statementDate' отсутствует в JSON. Пропуск.\n",
      "2024-09-08 08:17:24,502 - WARNING - Поле 'issueDate' отсутствует в JSON. Пропуск.\n",
      "2024-09-08 08:17:24,503 - WARNING - Поле 'date' отсутствует в JSON. Пропуск.\n",
      "2024-09-08 08:17:24,503 - INFO - Поле 'requestTimestamp' успешно обновлено.\n",
      "2024-09-08 08:17:24,503 - INFO - Поле 'updateTimestamp' успешно обновлено.\n",
      "2024-09-08 08:17:24,503 - WARNING - Поле 'fullName' отсутствует в JSON. Пропуск.\n",
      "2024-09-08 08:17:24,504 - WARNING - Поле 'shortName' отсутствует в JSON. Пропуск.\n",
      "2024-09-08 08:17:24,504 - INFO - Файл /home/nuanred/Documents/repo/epgu_replase/output_files_folder/newprolongation.json успешно сохранен.\n"
     ]
    }
   ],
   "source": [
    "from main import JsonProcessor\n",
    "import uuid\n",
    "input_data = {\n",
    "    \"id\": \"\",\n",
    "    \"requestId\": \"\",\n",
    "    \"xsltId\": 0,\n",
    "    \"responseId\": \"\",\n",
    "    \"messageId\": \"\",\n",
    "    \"orderID\": \"\",\n",
    "    \"statementDate\": \"\",\n",
    "    \"issueDate\": \"\",\n",
    "    \"date\": \"\",\n",
    "            \"requestTimestamp\": \"\",\n",
    "            \"updateTimestamp\": \"\",\n",
    "            \"fullName\": \"\",\n",
    "            \"shortName\": \"\"\n",
    "}\n",
    "\n",
    "\n",
    "current_date = \"2024-09-08\"\n",
    "current_timestamp = \"2024-09-08T08:31:20.508+0300\"\n",
    "\n",
    "# Определяем, какие поля необходимо заменить\n",
    "fields_to_update = {\n",
    "    \"id\": str(uuid.uuid4()),\n",
    "    \"requestId\": str(uuid.uuid4()),\n",
    "    \"xsltId\": 10,\n",
    "    \"responseId\": str(uuid.uuid4()),\n",
    "    \"messageId\": str(uuid.uuid4()),\n",
    "    \"orderID\": \"3501540284\",\n",
    "    \"statementDate\": current_date,\n",
    "    \"issueDate\": current_date,\n",
    "    \"date\": current_date,\n",
    "    \"requestTimestamp\": current_timestamp,\n",
    "    \"updateTimestamp\": current_timestamp,\n",
    "    \"fullName\": \"CenterInformVR\",\n",
    "    \"shortName\": \"CenterInformVR790790\"\n",
    "}\n",
    "list_of_files= ['renewal.json','create.json','prolongation.json']\n",
    "for item in list_of_files:\n",
    "    js = JsonProcessor(f'/home/nuanred/Documents/repo/epgu_replase/input_files_folder/{item}',\n",
    "                   f'/home/nuanred/Documents/repo/epgu_replase/output_files_folder/new{item}', fields_to_update)\n",
    "    js.process()"
   ]
  },
  {
   "cell_type": "code",
   "execution_count": 2,
   "metadata": {},
   "outputs": [
    {
     "ename": "ModuleNotFoundError",
     "evalue": "No module named 'paramiko'",
     "output_type": "error",
     "traceback": [
      "\u001b[0;31m---------------------------------------------------------------------------\u001b[0m",
      "\u001b[0;31mModuleNotFoundError\u001b[0m                       Traceback (most recent call last)",
      "Cell \u001b[0;32mIn[2], line 2\u001b[0m\n\u001b[1;32m      1\u001b[0m \u001b[38;5;66;03m#Копируем\u001b[39;00m\n\u001b[0;32m----> 2\u001b[0m \u001b[38;5;28;01mimport\u001b[39;00m \u001b[38;5;21;01mtest_utils\u001b[39;00m\n\u001b[1;32m      3\u001b[0m \u001b[38;5;28;01mimport\u001b[39;00m \u001b[38;5;21;01mtime\u001b[39;00m\n\u001b[1;32m      4\u001b[0m copy_command_xml\u001b[38;5;241m=\u001b[39m(\n\u001b[1;32m      5\u001b[0m     \u001b[38;5;124mf\u001b[39m\u001b[38;5;124m'\u001b[39m\u001b[38;5;124mscp /media/nuanred/2f0ac1ec-7485-4ab7-aac0-7be94188d9a6/mnt/EPGU/repo/test_data/prolongation_new.json Serobaba@DockerHub:/home/ldapusers/Serobaba/license/jsonsepgu\u001b[39m\u001b[38;5;124m'\u001b[39m,\n\u001b[1;32m      6\u001b[0m     \u001b[38;5;124mf\u001b[39m\u001b[38;5;124m'\u001b[39m\u001b[38;5;124mscp /media/nuanred/2f0ac1ec-7485-4ab7-aac0-7be94188d9a6/mnt/EPGU/repo/test_data/renewal_new.json  Serobaba@DockerHub:/home/ldapusers/Serobaba/license/jsonsepgu\u001b[39m\u001b[38;5;124m'\u001b[39m, \n\u001b[1;32m      7\u001b[0m     \u001b[38;5;124mf\u001b[39m\u001b[38;5;124m'\u001b[39m\u001b[38;5;124mscp /media/nuanred/2f0ac1ec-7485-4ab7-aac0-7be94188d9a6/mnt/EPGU/repo/test_data/create_new.json  Serobaba@DockerHub:/home/ldapusers/Serobaba/license/jsonsepgu\u001b[39m\u001b[38;5;124m'\u001b[39m,\n\u001b[1;32m      8\u001b[0m     \u001b[38;5;124mf\u001b[39m\u001b[38;5;124m'\u001b[39m\u001b[38;5;124mscp /media/nuanred/2f0ac1ec-7485-4ab7-aac0-7be94188d9a6/mnt/EPGU/kafka_produser_epgu.py  Serobaba@DockerHub:/home/ldapusers/Serobaba/license/\u001b[39m\u001b[38;5;124m'\u001b[39m,\n\u001b[1;32m      9\u001b[0m     )\n",
      "File \u001b[0;32m~/Documents/repo/epgu_replase/test_utils.py:4\u001b[0m\n\u001b[1;32m      2\u001b[0m \u001b[38;5;28;01mimport\u001b[39;00m \u001b[38;5;21;01mshutil\u001b[39;00m\n\u001b[1;32m      3\u001b[0m \u001b[38;5;28;01mimport\u001b[39;00m \u001b[38;5;21;01msubprocess\u001b[39;00m\n\u001b[0;32m----> 4\u001b[0m \u001b[38;5;28;01mimport\u001b[39;00m \u001b[38;5;21;01mparamiko\u001b[39;00m\n\u001b[1;32m      5\u001b[0m \u001b[38;5;28;01mdef\u001b[39;00m \u001b[38;5;21mrun_bash_command\u001b[39m(command):\n\u001b[1;32m      6\u001b[0m \u001b[38;5;250m    \u001b[39m\u001b[38;5;124;03m\"\"\"\u001b[39;00m\n\u001b[1;32m      7\u001b[0m \u001b[38;5;124;03m    Выполняет указанную команду Bash и возвращает ее вывод.\u001b[39;00m\n\u001b[1;32m      8\u001b[0m \u001b[38;5;124;03m    \u001b[39;00m\n\u001b[0;32m   (...)\u001b[0m\n\u001b[1;32m     13\u001b[0m \u001b[38;5;124;03m        str: Вывод выполненной команды.\u001b[39;00m\n\u001b[1;32m     14\u001b[0m \u001b[38;5;124;03m    \"\"\"\u001b[39;00m\n",
      "\u001b[0;31mModuleNotFoundError\u001b[0m: No module named 'paramiko'"
     ]
    }
   ],
   "source": [
    "#Копируем\n",
    "import test_utils\n",
    "import time\n",
    "copy_command_xml=(\n",
    "    f'scp /media/nuanred/2f0ac1ec-7485-4ab7-aac0-7be94188d9a6/mnt/EPGU/repo/test_data/newprolongation.json Serobaba@DockerHub:/home/ldapusers/Serobaba/license/jsonsepgu',\n",
    "    f'scp /media/nuanred/2f0ac1ec-7485-4ab7-aac0-7be94188d9a6/mnt/EPGU/repo/test_data/newrenewal.json  Serobaba@DockerHub:/home/ldapusers/Serobaba/license/jsonsepgu', \n",
    "    f'scp /media/nuanred/2f0ac1ec-7485-4ab7-aac0-7be94188d9a6/mnt/EPGU/repo/test_data/newcreate.json  Serobaba@DockerHub:/home/ldapusers/Serobaba/license/jsonsepgu',\n",
    "    f'scp /media/nuanred/2f0ac1ec-7485-4ab7-aac0-7be94188d9a6/mnt/EPGU/kafka_produser_epgu.py  Serobaba@DockerHub:/home/ldapusers/Serobaba/license/',\n",
    "    )\n",
    "for _ in copy_command_xml:\n",
    "    test_utils.run_bash_command(_)\n",
    "    time.sleep(1)"
   ]
  },
  {
   "cell_type": "code",
   "execution_count": null,
   "metadata": {},
   "outputs": [
    {
     "ename": "",
     "evalue": "",
     "output_type": "error",
     "traceback": [
      "\u001b[1;31mRunning cells with '.venv (Python 3.10.12)' requires the ipykernel package.\n",
      "\u001b[1;31mRun the following command to install 'ipykernel' into the Python environment. \n",
      "\u001b[1;31mCommand: '/home/nuanred/Documents/repo/epgu_replase/.venv/bin/python -m pip install ipykernel -U --force-reinstall'"
     ]
    }
   ],
   "source": [
    "command=(\n",
    "    'ls',\n",
    "    'python /home/ldapusers/Serobaba/license/kafka_produser_epgu.py'\n",
    ")\n",
    "import test_utils\n",
    "vm_details = {\n",
    "    \"hostname\": \"10.0.50.208\",\n",
    "    \"username\": \"Serobaba\",\n",
    "    \"password\": \"nuanred\"\n",
    "}\n",
    "jhost_details = {\n",
    "    \"hostname\": \"10.10.4.32\",\n",
    "    \"username\": \"Serobaba\",\n",
    "    \"password\": \"nuanred\"\n",
    "}\n",
    "test_utils.execute_ssh_commands_to_file(command,vm_details,jhost_details,'/media/nuanred/2f0ac1ec-7485-4ab7-aac0-7be94188d9a6/mnt/EPGU/repo/lic_epgu.log')"
   ]
  }
 ],
 "metadata": {
  "kernelspec": {
   "display_name": ".venv",
   "language": "python",
   "name": "python3"
  },
  "language_info": {
   "codemirror_mode": {
    "name": "ipython",
    "version": 3
   },
   "file_extension": ".py",
   "mimetype": "text/x-python",
   "name": "python",
   "nbconvert_exporter": "python",
   "pygments_lexer": "ipython3",
   "version": "3.10.12"
  }
 },
 "nbformat": 4,
 "nbformat_minor": 2
}
