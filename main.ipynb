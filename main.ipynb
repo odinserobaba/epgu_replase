{
 "cells": [
  {
   "cell_type": "code",
   "execution_count": 9,
   "metadata": {},
   "outputs": [],
   "source": [
    "import jsmain as js  \n",
    "js.main()"
   ]
  },
  {
   "cell_type": "code",
   "execution_count": 4,
   "metadata": {},
   "outputs": [
    {
     "name": "stderr",
     "output_type": "stream",
     "text": [
      "/media/nuanred/2f0ac1ec-7485-4ab7-aac0-7be94188d9a6/mnt/EPGU/repo/test_data/prolongation_new.json: No such file or directory\n"
     ]
    },
    {
     "name": "stdout",
     "output_type": "stream",
     "text": [
      "Ошибка при выполнении команды: Command 'scp /media/nuanred/2f0ac1ec-7485-4ab7-aac0-7be94188d9a6/mnt/EPGU/repo/test_data/prolongation_new.json Serobaba@DockerHub:/home/ldapusers/Serobaba/license/jsonsepgu' returned non-zero exit status 1.\n"
     ]
    },
    {
     "name": "stderr",
     "output_type": "stream",
     "text": [
      "kex_exchange_identification: Connection closed by remote host\n",
      "Connection closed by UNKNOWN port 65535\n",
      "lost connection\n"
     ]
    },
    {
     "name": "stdout",
     "output_type": "stream",
     "text": [
      "Ошибка при выполнении команды: Command 'scp /media/nuanred/2f0ac1ec-7485-4ab7-aac0-7be94188d9a6/mnt/EPGU/repo/test_data/renewal_new.json  Serobaba@DockerHub:/home/ldapusers/Serobaba/license/jsonsepgu' returned non-zero exit status 1.\n"
     ]
    },
    {
     "name": "stderr",
     "output_type": "stream",
     "text": [
      "/media/nuanred/2f0ac1ec-7485-4ab7-aac0-7be94188d9a6/mnt/EPGU/repo/test_data/create_new.json: No such file or directory\n"
     ]
    },
    {
     "name": "stdout",
     "output_type": "stream",
     "text": [
      "Ошибка при выполнении команды: Command 'scp /media/nuanred/2f0ac1ec-7485-4ab7-aac0-7be94188d9a6/mnt/EPGU/repo/test_data/create_new.json  Serobaba@DockerHub:/home/ldapusers/Serobaba/license/jsonsepgu' returned non-zero exit status 1.\n"
     ]
    }
   ],
   "source": [
    "#Копируем\n",
    "import test_utils\n",
    "import time\n",
    "copy_command_xml=(\n",
    "    f'scp /media/nuanred/2f0ac1ec-7485-4ab7-aac0-7be94188d9a6/mnt/EPGU/repo/test_data/prolongation_new.json Serobaba@DockerHub:/home/ldapusers/Serobaba/license/jsonsepgu',\n",
    "    f'scp /media/nuanred/2f0ac1ec-7485-4ab7-aac0-7be94188d9a6/mnt/EPGU/repo/test_data/renewal_new.json  Serobaba@DockerHub:/home/ldapusers/Serobaba/license/jsonsepgu', \n",
    "    f'scp /media/nuanred/2f0ac1ec-7485-4ab7-aac0-7be94188d9a6/mnt/EPGU/repo/test_data/create_new.json  Serobaba@DockerHub:/home/ldapusers/Serobaba/license/jsonsepgu',\n",
    "    f'scp /media/nuanred/2f0ac1ec-7485-4ab7-aac0-7be94188d9a6/mnt/EPGU/kafka_produser_epgu.py  Serobaba@DockerHub:/home/ldapusers/Serobaba/license/',\n",
    "    )\n",
    "for _ in copy_command_xml:\n",
    "    test_utils.run_bash_command(_)\n",
    "    time.sleep(1)"
   ]
  },
  {
   "cell_type": "code",
   "execution_count": 7,
   "metadata": {},
   "outputs": [
    {
     "data": {
      "text/plain": [
       "True"
      ]
     },
     "execution_count": 7,
     "metadata": {},
     "output_type": "execute_result"
    }
   ],
   "source": [
    "command=(\n",
    "    'ls',\n",
    "    'python /home/ldapusers/Serobaba/license/kafka_produser_epgu.py'\n",
    ")\n",
    "import test_utils\n",
    "vm_details = {\n",
    "    \"hostname\": \"10.0.50.208\",\n",
    "    \"username\": \"Serobaba\",\n",
    "    \"password\": \"nuanred\"\n",
    "}\n",
    "jhost_details = {\n",
    "    \"hostname\": \"10.10.4.32\",\n",
    "    \"username\": \"Serobaba\",\n",
    "    \"password\": \"nuanred\"\n",
    "}\n",
    "test_utils.execute_ssh_commands_to_file(command,vm_details,jhost_details,'/media/nuanred/2f0ac1ec-7485-4ab7-aac0-7be94188d9a6/mnt/EPGU/repo/lic_epgu.log')"
   ]
  }
 ],
 "metadata": {
  "kernelspec": {
   "display_name": ".venv",
   "language": "python",
   "name": "python3"
  },
  "language_info": {
   "codemirror_mode": {
    "name": "ipython",
    "version": 3
   },
   "file_extension": ".py",
   "mimetype": "text/x-python",
   "name": "python",
   "nbconvert_exporter": "python",
   "pygments_lexer": "ipython3",
   "version": "3.10.12"
  }
 },
 "nbformat": 4,
 "nbformat_minor": 2
}
